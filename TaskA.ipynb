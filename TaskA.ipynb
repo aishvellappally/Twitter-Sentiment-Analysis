{
  "nbformat": 4,
  "nbformat_minor": 0,
  "metadata": {
    "kernelspec": {
      "display_name": "Python 3",
      "language": "python",
      "name": "python3"
    },
    "language_info": {
      "codemirror_mode": {
        "name": "ipython",
        "version": 3
      },
      "file_extension": ".py",
      "mimetype": "text/x-python",
      "name": "python",
      "nbconvert_exporter": "python",
      "pygments_lexer": "ipython3",
      "version": "3.7.4"
    },
    "colab": {
      "name": "TaskA.ipynb",
      "provenance": [],
      "include_colab_link": true
    },
    "accelerator": "TPU"
  },
  "cells": [
    {
      "cell_type": "markdown",
      "metadata": {
        "id": "view-in-github",
        "colab_type": "text"
      },
      "source": [
        "<a href=\"https://colab.research.google.com/github/ash95sv/AMLS_II_assignment19_20-/blob/master/TaskA.ipynb\" target=\"_parent\"><img src=\"https://colab.research.google.com/assets/colab-badge.svg\" alt=\"Open In Colab\"/></a>"
      ]
    },
    {
      "cell_type": "code",
      "metadata": {
        "id": "liNCOrrxfqvM",
        "colab_type": "code",
        "outputId": "45da96ca-11aa-46bd-c738-98e94a252cf8",
        "colab": {
          "base_uri": "https://localhost:8080/",
          "height": 34
        }
      },
      "source": [
        "import sys\n",
        "if 'google.colab' in sys.modules: # Colab-only Tensorflow version selector\n",
        "  %tensorflow_version 2.x\n",
        "import tensorflow as tf\n",
        "print(\"Tensorflow version \" + tf.__version__)"
      ],
      "execution_count": 1,
      "outputs": [
        {
          "output_type": "stream",
          "text": [
            "Tensorflow version 2.2.0-rc3\n"
          ],
          "name": "stdout"
        }
      ]
    },
    {
      "cell_type": "code",
      "metadata": {
        "id": "3PP_AfTqtNbm",
        "colab_type": "code",
        "outputId": "4285ac45-583b-4143-ae71-459b6dc37dca",
        "colab": {
          "base_uri": "https://localhost:8080/",
          "height": 751
        }
      },
      "source": [
        "# Detect hardware, return appropriate distribution strategy\n",
        "try:\n",
        "    tpu = tf.distribute.cluster_resolver.TPUClusterResolver()  # TPU detection\n",
        "    print('Running on TPU ', tpu.cluster_spec().as_dict()['worker'])\n",
        "except ValueError:\n",
        "    tpu = None\n",
        "    gpus = tf.config.experimental.list_logical_devices(\"GPU\")\n",
        "\n",
        "if tpu:\n",
        "    tf.config.experimental_connect_to_cluster(tpu)\n",
        "    tf.tpu.experimental.initialize_tpu_system(tpu)\n",
        "    strategy = tf.distribute.experimental.TPUStrategy(tpu)\n",
        "elif len(gpus) > 1: # multiple GPUs in one VM\n",
        "    strategy = tf.distribute.MirroredStrategy(gpus)\n",
        "else: # default strategy that works on CPU and single GPU\n",
        "    strategy = tf.distribute.get_strategy()\n",
        "\n",
        "print(\"REPLICAS: \", strategy.num_replicas_in_sync)"
      ],
      "execution_count": 2,
      "outputs": [
        {
          "output_type": "stream",
          "text": [
            "Running on TPU  ['10.28.83.82:8470']\n",
            "INFO:tensorflow:Initializing the TPU system: grpc://10.28.83.82:8470\n"
          ],
          "name": "stdout"
        },
        {
          "output_type": "stream",
          "text": [
            "INFO:tensorflow:Initializing the TPU system: grpc://10.28.83.82:8470\n"
          ],
          "name": "stderr"
        },
        {
          "output_type": "stream",
          "text": [
            "INFO:tensorflow:Clearing out eager caches\n"
          ],
          "name": "stdout"
        },
        {
          "output_type": "stream",
          "text": [
            "INFO:tensorflow:Clearing out eager caches\n"
          ],
          "name": "stderr"
        },
        {
          "output_type": "stream",
          "text": [
            "INFO:tensorflow:Finished initializing TPU system.\n"
          ],
          "name": "stdout"
        },
        {
          "output_type": "stream",
          "text": [
            "INFO:tensorflow:Finished initializing TPU system.\n"
          ],
          "name": "stderr"
        },
        {
          "output_type": "stream",
          "text": [
            "INFO:tensorflow:Found TPU system:\n"
          ],
          "name": "stdout"
        },
        {
          "output_type": "stream",
          "text": [
            "INFO:tensorflow:Found TPU system:\n"
          ],
          "name": "stderr"
        },
        {
          "output_type": "stream",
          "text": [
            "INFO:tensorflow:*** Num TPU Cores: 8\n"
          ],
          "name": "stdout"
        },
        {
          "output_type": "stream",
          "text": [
            "INFO:tensorflow:*** Num TPU Cores: 8\n"
          ],
          "name": "stderr"
        },
        {
          "output_type": "stream",
          "text": [
            "INFO:tensorflow:*** Num TPU Workers: 1\n"
          ],
          "name": "stdout"
        },
        {
          "output_type": "stream",
          "text": [
            "INFO:tensorflow:*** Num TPU Workers: 1\n"
          ],
          "name": "stderr"
        },
        {
          "output_type": "stream",
          "text": [
            "INFO:tensorflow:*** Num TPU Cores Per Worker: 8\n"
          ],
          "name": "stdout"
        },
        {
          "output_type": "stream",
          "text": [
            "INFO:tensorflow:*** Num TPU Cores Per Worker: 8\n"
          ],
          "name": "stderr"
        },
        {
          "output_type": "stream",
          "text": [
            "INFO:tensorflow:*** Available Device: _DeviceAttributes(/job:localhost/replica:0/task:0/device:CPU:0, CPU, 0, 0)\n"
          ],
          "name": "stdout"
        },
        {
          "output_type": "stream",
          "text": [
            "INFO:tensorflow:*** Available Device: _DeviceAttributes(/job:localhost/replica:0/task:0/device:CPU:0, CPU, 0, 0)\n"
          ],
          "name": "stderr"
        },
        {
          "output_type": "stream",
          "text": [
            "INFO:tensorflow:*** Available Device: _DeviceAttributes(/job:localhost/replica:0/task:0/device:XLA_CPU:0, XLA_CPU, 0, 0)\n"
          ],
          "name": "stdout"
        },
        {
          "output_type": "stream",
          "text": [
            "INFO:tensorflow:*** Available Device: _DeviceAttributes(/job:localhost/replica:0/task:0/device:XLA_CPU:0, XLA_CPU, 0, 0)\n"
          ],
          "name": "stderr"
        },
        {
          "output_type": "stream",
          "text": [
            "INFO:tensorflow:*** Available Device: _DeviceAttributes(/job:worker/replica:0/task:0/device:CPU:0, CPU, 0, 0)\n"
          ],
          "name": "stdout"
        },
        {
          "output_type": "stream",
          "text": [
            "INFO:tensorflow:*** Available Device: _DeviceAttributes(/job:worker/replica:0/task:0/device:CPU:0, CPU, 0, 0)\n"
          ],
          "name": "stderr"
        },
        {
          "output_type": "stream",
          "text": [
            "INFO:tensorflow:*** Available Device: _DeviceAttributes(/job:worker/replica:0/task:0/device:TPU:0, TPU, 0, 0)\n"
          ],
          "name": "stdout"
        },
        {
          "output_type": "stream",
          "text": [
            "INFO:tensorflow:*** Available Device: _DeviceAttributes(/job:worker/replica:0/task:0/device:TPU:0, TPU, 0, 0)\n"
          ],
          "name": "stderr"
        },
        {
          "output_type": "stream",
          "text": [
            "INFO:tensorflow:*** Available Device: _DeviceAttributes(/job:worker/replica:0/task:0/device:TPU:1, TPU, 0, 0)\n"
          ],
          "name": "stdout"
        },
        {
          "output_type": "stream",
          "text": [
            "INFO:tensorflow:*** Available Device: _DeviceAttributes(/job:worker/replica:0/task:0/device:TPU:1, TPU, 0, 0)\n"
          ],
          "name": "stderr"
        },
        {
          "output_type": "stream",
          "text": [
            "INFO:tensorflow:*** Available Device: _DeviceAttributes(/job:worker/replica:0/task:0/device:TPU:2, TPU, 0, 0)\n"
          ],
          "name": "stdout"
        },
        {
          "output_type": "stream",
          "text": [
            "INFO:tensorflow:*** Available Device: _DeviceAttributes(/job:worker/replica:0/task:0/device:TPU:2, TPU, 0, 0)\n"
          ],
          "name": "stderr"
        },
        {
          "output_type": "stream",
          "text": [
            "INFO:tensorflow:*** Available Device: _DeviceAttributes(/job:worker/replica:0/task:0/device:TPU:3, TPU, 0, 0)\n"
          ],
          "name": "stdout"
        },
        {
          "output_type": "stream",
          "text": [
            "INFO:tensorflow:*** Available Device: _DeviceAttributes(/job:worker/replica:0/task:0/device:TPU:3, TPU, 0, 0)\n"
          ],
          "name": "stderr"
        },
        {
          "output_type": "stream",
          "text": [
            "INFO:tensorflow:*** Available Device: _DeviceAttributes(/job:worker/replica:0/task:0/device:TPU:4, TPU, 0, 0)\n"
          ],
          "name": "stdout"
        },
        {
          "output_type": "stream",
          "text": [
            "INFO:tensorflow:*** Available Device: _DeviceAttributes(/job:worker/replica:0/task:0/device:TPU:4, TPU, 0, 0)\n"
          ],
          "name": "stderr"
        },
        {
          "output_type": "stream",
          "text": [
            "INFO:tensorflow:*** Available Device: _DeviceAttributes(/job:worker/replica:0/task:0/device:TPU:5, TPU, 0, 0)\n"
          ],
          "name": "stdout"
        },
        {
          "output_type": "stream",
          "text": [
            "INFO:tensorflow:*** Available Device: _DeviceAttributes(/job:worker/replica:0/task:0/device:TPU:5, TPU, 0, 0)\n"
          ],
          "name": "stderr"
        },
        {
          "output_type": "stream",
          "text": [
            "INFO:tensorflow:*** Available Device: _DeviceAttributes(/job:worker/replica:0/task:0/device:TPU:6, TPU, 0, 0)\n"
          ],
          "name": "stdout"
        },
        {
          "output_type": "stream",
          "text": [
            "INFO:tensorflow:*** Available Device: _DeviceAttributes(/job:worker/replica:0/task:0/device:TPU:6, TPU, 0, 0)\n"
          ],
          "name": "stderr"
        },
        {
          "output_type": "stream",
          "text": [
            "INFO:tensorflow:*** Available Device: _DeviceAttributes(/job:worker/replica:0/task:0/device:TPU:7, TPU, 0, 0)\n"
          ],
          "name": "stdout"
        },
        {
          "output_type": "stream",
          "text": [
            "INFO:tensorflow:*** Available Device: _DeviceAttributes(/job:worker/replica:0/task:0/device:TPU:7, TPU, 0, 0)\n"
          ],
          "name": "stderr"
        },
        {
          "output_type": "stream",
          "text": [
            "INFO:tensorflow:*** Available Device: _DeviceAttributes(/job:worker/replica:0/task:0/device:TPU_SYSTEM:0, TPU_SYSTEM, 0, 0)\n"
          ],
          "name": "stdout"
        },
        {
          "output_type": "stream",
          "text": [
            "INFO:tensorflow:*** Available Device: _DeviceAttributes(/job:worker/replica:0/task:0/device:TPU_SYSTEM:0, TPU_SYSTEM, 0, 0)\n"
          ],
          "name": "stderr"
        },
        {
          "output_type": "stream",
          "text": [
            "INFO:tensorflow:*** Available Device: _DeviceAttributes(/job:worker/replica:0/task:0/device:XLA_CPU:0, XLA_CPU, 0, 0)\n"
          ],
          "name": "stdout"
        },
        {
          "output_type": "stream",
          "text": [
            "INFO:tensorflow:*** Available Device: _DeviceAttributes(/job:worker/replica:0/task:0/device:XLA_CPU:0, XLA_CPU, 0, 0)\n"
          ],
          "name": "stderr"
        },
        {
          "output_type": "stream",
          "text": [
            "REPLICAS:  8\n"
          ],
          "name": "stdout"
        }
      ]
    },
    {
      "cell_type": "code",
      "metadata": {
        "id": "G2FsQYbeti2B",
        "colab_type": "code",
        "colab": {}
      },
      "source": [
        "# batch and learning rate settings\n",
        "if strategy.num_replicas_in_sync == 8: # TPU or 8xGPU\n",
        "    BATCH_SIZE = 4 * strategy.num_replicas_in_sync\n",
        "elif strategy.num_replicas_in_sync == 1: # single GPU\n",
        "    BATCH_SIZE = 16\n",
        "else: # TPU pod\n",
        "    BATCH_SIZE = 8 * strategy.num_replicas_in_sync"
      ],
      "execution_count": 0,
      "outputs": []
    },
    {
      "cell_type": "code",
      "metadata": {
        "id": "EJp9F8DdjPQj",
        "colab_type": "code",
        "outputId": "9bc494c0-dbd9-4ebe-c353-139a150b170a",
        "colab": {
          "base_uri": "https://localhost:8080/",
          "height": 459
        }
      },
      "source": [
        "import nltk\n",
        "nltk.download() "
      ],
      "execution_count": 4,
      "outputs": [
        {
          "output_type": "stream",
          "text": [
            "NLTK Downloader\n",
            "---------------------------------------------------------------------------\n",
            "    d) Download   l) List    u) Update   c) Config   h) Help   q) Quit\n",
            "---------------------------------------------------------------------------\n",
            "Downloader> d\n",
            "\n",
            "Download which package (l=list; x=cancel)?\n",
            "  Identifier> stopwords\n",
            "    Downloading package stopwords to /root/nltk_data...\n",
            "      Package stopwords is already up-to-date!\n",
            "\n",
            "---------------------------------------------------------------------------\n",
            "    d) Download   l) List    u) Update   c) Config   h) Help   q) Quit\n",
            "---------------------------------------------------------------------------\n",
            "Downloader> d\n",
            "\n",
            "Download which package (l=list; x=cancel)?\n",
            "  Identifier> punkt\n",
            "    Downloading package punkt to /root/nltk_data...\n",
            "      Package punkt is already up-to-date!\n",
            "\n",
            "---------------------------------------------------------------------------\n",
            "    d) Download   l) List    u) Update   c) Config   h) Help   q) Quit\n",
            "---------------------------------------------------------------------------\n",
            "Downloader> q\n"
          ],
          "name": "stdout"
        },
        {
          "output_type": "execute_result",
          "data": {
            "text/plain": [
              "True"
            ]
          },
          "metadata": {
            "tags": []
          },
          "execution_count": 4
        }
      ]
    },
    {
      "cell_type": "code",
      "metadata": {
        "id": "CoZyHiGDfHSQ",
        "colab_type": "code",
        "outputId": "9781c52f-3a29-4ea0-9279-39db2c6125ec",
        "colab": {
          "base_uri": "https://localhost:8080/",
          "height": 71
        }
      },
      "source": [
        "import pandas as pd\n",
        "import numpy as np\n",
        "import seaborn as sns\n",
        "import matplotlib.pyplot as plt\n",
        "from sklearn.metrics import mean_absolute_error, accuracy_score\n",
        "from sklearn.model_selection import train_test_split\n",
        "import spacy \n",
        "#import tensorflow as tf\n",
        "from tensorflow.keras.models import Model,Sequential\n",
        "from tensorflow.keras.layers import Dense, Input, Dropout, MaxPooling1D, Conv1D, GlobalMaxPool1D, Flatten\n",
        "from tensorflow.keras.layers import LSTM, Lambda, Bidirectional, concatenate, BatchNormalization\n",
        "from tensorflow.keras.layers import TimeDistributed\n",
        "from tensorflow.keras.initializers import GlorotNormal\n",
        "from tensorflow.keras.optimizers import Adam\n",
        "from tensorflow.keras.preprocessing.text import Tokenizer\n",
        "from sklearn.preprocessing import LabelEncoder\n",
        "from tensorflow.keras.utils import to_categorical\n",
        "from tensorflow.keras.callbacks import EarlyStopping, ModelCheckpoint, Callback\n",
        "\n"
      ],
      "execution_count": 5,
      "outputs": [
        {
          "output_type": "stream",
          "text": [
            "/usr/local/lib/python3.6/dist-packages/statsmodels/tools/_testing.py:19: FutureWarning: pandas.util.testing is deprecated. Use the functions in the public API at pandas.testing instead.\n",
            "  import pandas.util.testing as tm\n"
          ],
          "name": "stderr"
        }
      ]
    },
    {
      "cell_type": "code",
      "metadata": {
        "id": "pcTUDNhVfHSr",
        "colab_type": "code",
        "colab": {}
      },
      "source": [
        "import re\n",
        "import tensorflow.keras.callbacks\n",
        "import os\n",
        "from nltk.tokenize import sent_tokenize, word_tokenize\n",
        "from string import punctuation \n",
        "#import nltk\n",
        "#nltk.download('stopwords') \n",
        "from nltk.corpus import stopwords\n",
        "\n",
        "\n",
        "def binarize(x, sz=72):\n",
        "    return tf.cast(tf.one_hot(x, sz, on_value=1, off_value=0, axis=-1),dtype=tf.float32)\n",
        "\n",
        "def binarize_outshape(in_shape, sz=72):\n",
        "    return in_shape[0], in_shape[1], sz\n",
        "\n",
        "\n",
        "def striphtml(s):\n",
        "    p = re.compile(r'<.*?>')\n",
        "    return p.sub('', s)\n",
        "\n",
        "\n",
        "def clean(s):\n",
        "    tweet = re.sub('((www\\.[^\\s]+)|(https?://[^\\s]+))', 'URL', s) # remove URLs\n",
        "    tweet = re.sub('@[^\\s]+', 'AT_USER', tweet) # remove usernames\n",
        "    tweet = re.sub(r'#([^\\s]+)', r'\\1', tweet) # remove the # in #hashtag\n",
        "    #tweet = word_tokenize(tweet) # remove repeated characters (helloooooooo into hello)\n",
        "    return tweet\n"
      ],
      "execution_count": 0,
      "outputs": []
    },
    {
      "cell_type": "code",
      "metadata": {
        "id": "ZsQXj5PpfHTB",
        "colab_type": "code",
        "outputId": "2226ee54-599b-4935-86a7-fd0cf5c599b0",
        "colab": {
          "base_uri": "https://localhost:8080/",
          "height": 34
        }
      },
      "source": [
        "#read the training data files\n",
        "df_train = pd.read_excel('twitter-2016train-A.xls', names=('id', 'label','tweet'), header=None)\n",
        "df_dev = pd.read_excel('twitter-2016devtest-A.xls', names=('id', 'label','tweet'),header=None)\n",
        "df_devtest = pd.read_excel('twitter-2016dev-A.xls', names=('id','label','tweet'),header=None)\n",
        "df_2017=pd.read_excel('twitter-2015train-A.xls', names=('id', 'label','tweet'),header=None)\n",
        "#read the test data file\n",
        "df_test=pd.read_excel('twitter-2015test-A.xls', names=('id', 'label','tweet'),header=None)\n",
        "df_test_1=pd.read_excel('SemEval2017-task4-test.subtask-A.english.xls', names=('id', 'label','tweet'),header=None)\n",
        "\n",
        "df_train.head(5)\n",
        "print(len(df_train),len(df_dev),len(df_devtest),len(df_2017),len(df_test),len(df_test_1))"
      ],
      "execution_count": 7,
      "outputs": [
        {
          "output_type": "stream",
          "text": [
            "6000 2000 1999 489 2390 12284\n"
          ],
          "name": "stdout"
        }
      ]
    },
    {
      "cell_type": "code",
      "metadata": {
        "id": "y4zO6SACfHU3",
        "colab_type": "code",
        "outputId": "ad5daef2-c428-49ae-8202-5aa4e6e0ec8a",
        "colab": {
          "base_uri": "https://localhost:8080/",
          "height": 204
        }
      },
      "source": [
        "df_train.head(5)"
      ],
      "execution_count": 8,
      "outputs": [
        {
          "output_type": "execute_result",
          "data": {
            "text/html": [
              "<div>\n",
              "<style scoped>\n",
              "    .dataframe tbody tr th:only-of-type {\n",
              "        vertical-align: middle;\n",
              "    }\n",
              "\n",
              "    .dataframe tbody tr th {\n",
              "        vertical-align: top;\n",
              "    }\n",
              "\n",
              "    .dataframe thead th {\n",
              "        text-align: right;\n",
              "    }\n",
              "</style>\n",
              "<table border=\"1\" class=\"dataframe\">\n",
              "  <thead>\n",
              "    <tr style=\"text-align: right;\">\n",
              "      <th></th>\n",
              "      <th>id</th>\n",
              "      <th>label</th>\n",
              "      <th>tweet</th>\n",
              "    </tr>\n",
              "  </thead>\n",
              "  <tbody>\n",
              "    <tr>\n",
              "      <th>0</th>\n",
              "      <td>628949369883000064</td>\n",
              "      <td>negative</td>\n",
              "      <td>dear @Microsoft the newOoffice for Mac is grea...</td>\n",
              "    </tr>\n",
              "    <tr>\n",
              "      <th>1</th>\n",
              "      <td>628976607420644992</td>\n",
              "      <td>negative</td>\n",
              "      <td>@Microsoft how about you make a system that do...</td>\n",
              "    </tr>\n",
              "    <tr>\n",
              "      <th>2</th>\n",
              "      <td>629023169169517952</td>\n",
              "      <td>negative</td>\n",
              "      <td>I may be ignorant on this issue but... should ...</td>\n",
              "    </tr>\n",
              "    <tr>\n",
              "      <th>3</th>\n",
              "      <td>629179223232478976</td>\n",
              "      <td>negative</td>\n",
              "      <td>Thanks to @microsoft, I just may be switching ...</td>\n",
              "    </tr>\n",
              "    <tr>\n",
              "      <th>4</th>\n",
              "      <td>629186282179153024</td>\n",
              "      <td>neutral</td>\n",
              "      <td>If I make a game as a #windows10 Universal App...</td>\n",
              "    </tr>\n",
              "  </tbody>\n",
              "</table>\n",
              "</div>"
            ],
            "text/plain": [
              "                   id  ...                                              tweet\n",
              "0  628949369883000064  ...  dear @Microsoft the newOoffice for Mac is grea...\n",
              "1  628976607420644992  ...  @Microsoft how about you make a system that do...\n",
              "2  629023169169517952  ...  I may be ignorant on this issue but... should ...\n",
              "3  629179223232478976  ...  Thanks to @microsoft, I just may be switching ...\n",
              "4  629186282179153024  ...  If I make a game as a #windows10 Universal App...\n",
              "\n",
              "[5 rows x 3 columns]"
            ]
          },
          "metadata": {
            "tags": []
          },
          "execution_count": 8
        }
      ]
    },
    {
      "cell_type": "code",
      "metadata": {
        "id": "xk9W5qi3fHVp",
        "colab_type": "code",
        "outputId": "b8e670a7-aff8-43f7-cff6-b8851d3705ff",
        "colab": {
          "base_uri": "https://localhost:8080/",
          "height": 34
        }
      },
      "source": [
        "df = pd.concat([df_train,df_dev,df_devtest,df_2017,df_test,df_test_1]) # combined training set\n",
        "labels = df['label'].reset_index(drop=True) # label dataframe\n",
        "len(df)"
      ],
      "execution_count": 9,
      "outputs": [
        {
          "output_type": "execute_result",
          "data": {
            "text/plain": [
              "25162"
            ]
          },
          "metadata": {
            "tags": []
          },
          "execution_count": 9
        }
      ]
    },
    {
      "cell_type": "code",
      "metadata": {
        "id": "jbllZp8-fHWD",
        "colab_type": "code",
        "outputId": "3b3122e6-0d56-4996-c4cb-bb442f2fd8bd",
        "colab": {
          "base_uri": "https://localhost:8080/",
          "height": 204
        }
      },
      "source": [
        "#describe the distribution of labels \n",
        "df.groupby('label').describe()"
      ],
      "execution_count": 10,
      "outputs": [
        {
          "output_type": "execute_result",
          "data": {
            "text/html": [
              "<div>\n",
              "<style scoped>\n",
              "    .dataframe tbody tr th:only-of-type {\n",
              "        vertical-align: middle;\n",
              "    }\n",
              "\n",
              "    .dataframe tbody tr th {\n",
              "        vertical-align: top;\n",
              "    }\n",
              "\n",
              "    .dataframe thead tr th {\n",
              "        text-align: left;\n",
              "    }\n",
              "\n",
              "    .dataframe thead tr:last-of-type th {\n",
              "        text-align: right;\n",
              "    }\n",
              "</style>\n",
              "<table border=\"1\" class=\"dataframe\">\n",
              "  <thead>\n",
              "    <tr>\n",
              "      <th></th>\n",
              "      <th colspan=\"8\" halign=\"left\">id</th>\n",
              "    </tr>\n",
              "    <tr>\n",
              "      <th></th>\n",
              "      <th>count</th>\n",
              "      <th>mean</th>\n",
              "      <th>std</th>\n",
              "      <th>min</th>\n",
              "      <th>25%</th>\n",
              "      <th>50%</th>\n",
              "      <th>75%</th>\n",
              "      <th>max</th>\n",
              "    </tr>\n",
              "    <tr>\n",
              "      <th>label</th>\n",
              "      <th></th>\n",
              "      <th></th>\n",
              "      <th></th>\n",
              "      <th></th>\n",
              "      <th></th>\n",
              "      <th></th>\n",
              "      <th></th>\n",
              "      <th></th>\n",
              "    </tr>\n",
              "  </thead>\n",
              "  <tbody>\n",
              "    <tr>\n",
              "      <th>negative</th>\n",
              "      <td>5982.0</td>\n",
              "      <td>7.352630e+17</td>\n",
              "      <td>1.081537e+17</td>\n",
              "      <td>9.103035e+16</td>\n",
              "      <td>6.408928e+17</td>\n",
              "      <td>8.021927e+17</td>\n",
              "      <td>8.023818e+17</td>\n",
              "      <td>8.057249e+17</td>\n",
              "    </tr>\n",
              "    <tr>\n",
              "      <th>neutral</th>\n",
              "      <td>10666.0</td>\n",
              "      <td>7.089526e+17</td>\n",
              "      <td>1.249946e+17</td>\n",
              "      <td>9.168700e+16</td>\n",
              "      <td>6.380459e+17</td>\n",
              "      <td>8.017448e+17</td>\n",
              "      <td>8.023557e+17</td>\n",
              "      <td>8.057242e+17</td>\n",
              "    </tr>\n",
              "    <tr>\n",
              "      <th>positive</th>\n",
              "      <td>8514.0</td>\n",
              "      <td>6.603067e+17</td>\n",
              "      <td>1.123386e+17</td>\n",
              "      <td>9.123028e+16</td>\n",
              "      <td>6.315604e+17</td>\n",
              "      <td>6.401478e+17</td>\n",
              "      <td>8.017209e+17</td>\n",
              "      <td>8.057242e+17</td>\n",
              "    </tr>\n",
              "  </tbody>\n",
              "</table>\n",
              "</div>"
            ],
            "text/plain": [
              "               id                ...                            \n",
              "            count          mean  ...           75%           max\n",
              "label                            ...                            \n",
              "negative   5982.0  7.352630e+17  ...  8.023818e+17  8.057249e+17\n",
              "neutral   10666.0  7.089526e+17  ...  8.023557e+17  8.057242e+17\n",
              "positive   8514.0  6.603067e+17  ...  8.017209e+17  8.057242e+17\n",
              "\n",
              "[3 rows x 8 columns]"
            ]
          },
          "metadata": {
            "tags": []
          },
          "execution_count": 10
        }
      ]
    },
    {
      "cell_type": "code",
      "metadata": {
        "id": "UJ3d3wDM7IgG",
        "colab_type": "code",
        "colab": {}
      },
      "source": [
        "df.replace({'label': {'positive': 1, 'negative': -1, 'neutral':0}},inplace=True)"
      ],
      "execution_count": 0,
      "outputs": []
    },
    {
      "cell_type": "code",
      "metadata": {
        "id": "d3OzyErG2-mq",
        "colab_type": "code",
        "colab": {}
      },
      "source": [
        "# CNN with entire tweet and topic #Character\n",
        "def pre_process(df):\n",
        "  #df['combined']=df['tweet']\n",
        "  txt = ''\n",
        "  docs = []\n",
        "  sentences = []\n",
        "  sentiments = []\n",
        "  tweets=[]\n",
        "  i=0\n",
        "  stop_words = set(stopwords.words('english') + list(punctuation) + ['at_user','url'])\n",
        "\n",
        "  \n",
        "  for cont, sentiment in zip(df.tweet, df.label):\n",
        "      strip=striphtml(cont)\n",
        "      cleaned=clean(strip)\n",
        "      sentences = re.split(r'(?<!\\w\\.\\w.)(?<![A-Z][a-z]\\.)(?<=\\.|\\?)\\s', cleaned)\n",
        "      sentences = [sent.lower() for sent in sentences]\n",
        "      sentences = [word_tokenize(sent) for sent in sentences]\n",
        "      sentence_fin =[]\n",
        "      for sent in sentences:\n",
        "          sentence_fin.append([word for word in sent if word not in stop_words])\n",
        "      docs.append(sentence_fin)\n",
        "      sentiments.append(sentiment)\n",
        "\n",
        "  print(docs[80:90])\n",
        "  #find max number of sentences.\n",
        "  i=0\n",
        "  max_i=0\n",
        "  for sent in docs:\n",
        "      i=0\n",
        "      for k in sent:\n",
        "          i=i+1\n",
        "      max_i=max(i,max_i)\n",
        "      if(i==max_i):\n",
        "          j_max=sent\n",
        "\n",
        "  #find max number of characters in a tweet\n",
        "  max_char=0\n",
        "  for doc in docs:\n",
        "      count=0\n",
        "      for sent in doc:\n",
        "          for word in sent:\n",
        "              for s in word:\n",
        "                  count+=1\n",
        "                  max_char=max(max_char,count)\n",
        "  print(max_char)\n",
        "  for doc in docs:\n",
        "      for sent in doc:\n",
        "          for word in sent:\n",
        "              for s in word:\n",
        "                  txt += s\n",
        "          \n",
        "  chars = set(txt)\n",
        "  print('total chars:', len(chars))\n",
        "  char_indices = dict((c, i) for i, c in enumerate(chars))\n",
        "  indices_char = dict((i, c) for i, c in enumerate(chars))\n",
        "\n",
        "  maxlen = 140 \n",
        "  max_sentences = 10\n",
        "\n",
        "  X = np.ones((len(docs), max_sentences, maxlen), dtype=np.int64) * -1\n",
        "  y = np.array(sentiments)\n",
        "  max_j=0\n",
        "  for i, doc in enumerate(docs):\n",
        "      for j, sentence in enumerate(doc):\n",
        "          if j < max_sentences:\n",
        "              for word in sentence[-maxlen:]:\n",
        "                  for t, char in enumerate(word):\n",
        "                      X[i, j, (maxlen-1-t)] = char_indices[char]\n",
        "            \n",
        "  \n",
        "  ids = np.arange(len(X))\n",
        "  np.random.shuffle(ids)\n",
        "\n",
        "  # shuffle\n",
        "  X = X[ids]\n",
        "  y = y[ids]\n",
        "\n",
        "  print(\"Shape of X \", X.shape)\n",
        "  print(\"Shape of Y \", y.shape)\n",
        "  return X,y,chars, max_sentences, maxlen"
      ],
      "execution_count": 0,
      "outputs": []
    },
    {
      "cell_type": "code",
      "metadata": {
        "id": "JXy2ywvH49jM",
        "colab_type": "code",
        "colab": {
          "base_uri": "https://localhost:8080/",
          "height": 139
        },
        "outputId": "5534b16a-ae7b-411c-a83f-fc07849786b1"
      },
      "source": [
        "X, y,chars, max_sentences, maxlen = pre_process(df)\n",
        "y[0:10]"
      ],
      "execution_count": 15,
      "outputs": [
        {
          "output_type": "stream",
          "text": [
            "[[['please', 'look', 'link', 'see', 'errors', 'mentioned', 'may', 'correspond', 'errors'], []], [['make', 'hard', 'reset', 'password'], ['ridiculous'], ['still', 'sure', 'password', 'stopped', 'working', '1st', 'place']], [['ngo/npos', 'know', 'free/very', 'low-cost', 'software', 'amp', 'lots']], [['game', 'evolve', 'available', 'monday', 'xbox', 'one'], [\"n't\", 'give', 'us', 'free']], [['good', 'luck', 'pitch', 'battlers'], ['may', 'best', 'pitch', 'win']], [['mail', 'calendar', 'music', 'video', 'apps', 'rewritten', 'third', 'time', 'four', 'years', '...'], []], [['look', 'found', '1st', 'snapdragon', 'phone', 'stuff', 'toshiba', 'still', 'working']], [['ur', 'company', 'give', '500', 'pounds', 'plus', 'cost', 'laptop', 'monday', 'u', 'laptop']], [['thank', 'inviting', 'us', 'join', 'ibcshow', 'amsterdam', 'next', 'thursday']], [['seems', 'like', 'may', 'bit', 'could', 'chew', 'state', 'w10', 'mobile', 'core', 'apps', 'mobile', 'amp', 'pc']]]\n",
            "130\n",
            "total chars: 51\n",
            "Shape of X  (25162, 10, 140)\n",
            "Shape of Y  (25162,)\n"
          ],
          "name": "stdout"
        },
        {
          "output_type": "execute_result",
          "data": {
            "text/plain": [
              "array([ 1,  1,  0, -1,  0,  0,  0,  0,  0, -1])"
            ]
          },
          "metadata": {
            "tags": []
          },
          "execution_count": 15
        }
      ]
    },
    {
      "cell_type": "code",
      "metadata": {
        "id": "C86BDWwJ6keN",
        "colab_type": "code",
        "colab": {
          "base_uri": "https://localhost:8080/",
          "height": 187
        },
        "outputId": "a844afd7-0cb7-4aee-e70a-908ab02b289e"
      },
      "source": [
        "num_classes = 3\n",
        "def onehot(arr, num_class):\n",
        "    return np.eye(num_class)[np.array(arr.astype(int)).reshape(-1)]\n",
        "\n",
        "y = onehot(y, num_classes)\n",
        "y[0:10]"
      ],
      "execution_count": 16,
      "outputs": [
        {
          "output_type": "execute_result",
          "data": {
            "text/plain": [
              "array([[0., 1., 0.],\n",
              "       [0., 1., 0.],\n",
              "       [1., 0., 0.],\n",
              "       [0., 0., 1.],\n",
              "       [1., 0., 0.],\n",
              "       [1., 0., 0.],\n",
              "       [1., 0., 0.],\n",
              "       [1., 0., 0.],\n",
              "       [1., 0., 0.],\n",
              "       [0., 0., 1.]])"
            ]
          },
          "metadata": {
            "tags": []
          },
          "execution_count": 16
        }
      ]
    },
    {
      "cell_type": "code",
      "metadata": {
        "id": "QCRSRBuz7cME",
        "colab_type": "code",
        "colab": {}
      },
      "source": [
        "def create_model(chars,max_sentences,maxlen):\n",
        "  filter_length = [5,3]\n",
        "  nb_filter = [8,16]\n",
        "  pool_length = 2\n",
        "  # document input\n",
        "  document = Input(shape=(max_sentences, maxlen), dtype='int64')\n",
        "  # sentence input\n",
        "  in_sentence = Input(shape=(maxlen,), dtype='int64')\n",
        "  # char indices to one hot matrix, 1D sequence to 2D \n",
        "  embedded = Lambda(binarize, output_shape=binarize_outshape)(in_sentence)\n",
        "  # embedded: encodes sentence\n",
        "  for i in range(len(nb_filter)):\n",
        "      embedded = Conv1D(filters=nb_filter[i],\n",
        "                        kernel_size=filter_length[i],\n",
        "                        padding='same',\n",
        "                        activation='relu',\n",
        "                        kernel_initializer='he_normal',\n",
        "                        strides=1)(embedded)\n",
        "\n",
        "      embedded = MaxPooling1D(pool_size=pool_length)(embedded)\n",
        "      embedded = Dropout(0.3)(embedded)\n",
        "\n",
        "\n",
        "  bi_lstm_sent = Bidirectional(LSTM(25, return_sequences=False, dropout=0.3, recurrent_dropout=0.3, implementation=0))(embedded)\n",
        "\n",
        "  # sent_encode = merge([forward_sent, backward_sent], mode='concat', concat_axis=-1)\n",
        "  sent_encode = Dropout(0.3)(bi_lstm_sent)\n",
        "  # sentence encoder\n",
        "  encoder = Model(inputs=in_sentence, outputs=sent_encode)\n",
        "  encoder.summary()\n",
        "\n",
        "  encoded = TimeDistributed(encoder)(document)\n",
        "  # encoded: sentences to bi-lstm for document encoding \n",
        "  b_lstm_doc = Bidirectional(LSTM(5, return_sequences=False, dropout=0.3, recurrent_dropout=0.3, implementation=0))(encoded)\n",
        "\n",
        "  output = Dropout(0.3)(b_lstm_doc)\n",
        "  output = Dense(5, activation='relu')(output)\n",
        "  output = Dropout(0.3)(output)\n",
        "  output = Dense(3, activation='softmax')(output)\n",
        "\n",
        "  model = Model(inputs=document, outputs=output)\n",
        "\n",
        "  model.summary()\n",
        "  model.compile(loss='categorical_crossentropy', optimizer='adam', metrics=['accuracy'])\n",
        "  return model"
      ],
      "execution_count": 0,
      "outputs": []
    },
    {
      "cell_type": "code",
      "metadata": {
        "id": "2XhE6P5t7lij",
        "colab_type": "code",
        "colab": {
          "base_uri": "https://localhost:8080/",
          "height": 955
        },
        "outputId": "dd632b99-65ed-4202-f109-4a9513896ba3"
      },
      "source": [
        "epochs=50\n",
        "optimizer = 'adam'\n",
        "\n",
        "with strategy.scope():\n",
        "  model = create_model(chars,max_sentences,maxlen)"
      ],
      "execution_count": 56,
      "outputs": [
        {
          "output_type": "stream",
          "text": [
            "WARNING:tensorflow:`implementation=0` has been deprecated, and now defaults to `implementation=1`.Please update your layer call.\n"
          ],
          "name": "stdout"
        },
        {
          "output_type": "stream",
          "text": [
            "WARNING:tensorflow:`implementation=0` has been deprecated, and now defaults to `implementation=1`.Please update your layer call.\n"
          ],
          "name": "stderr"
        },
        {
          "output_type": "stream",
          "text": [
            "Model: \"model_6\"\n",
            "_________________________________________________________________\n",
            "Layer (type)                 Output Shape              Param #   \n",
            "=================================================================\n",
            "input_8 (InputLayer)         [(None, 140)]             0         \n",
            "_________________________________________________________________\n",
            "lambda_3 (Lambda)            (None, 140, 72)           0         \n",
            "_________________________________________________________________\n",
            "conv1d_6 (Conv1D)            (None, 140, 8)            2888      \n",
            "_________________________________________________________________\n",
            "max_pooling1d_6 (MaxPooling1 (None, 70, 8)             0         \n",
            "_________________________________________________________________\n",
            "dropout_15 (Dropout)         (None, 70, 8)             0         \n",
            "_________________________________________________________________\n",
            "conv1d_7 (Conv1D)            (None, 70, 16)            400       \n",
            "_________________________________________________________________\n",
            "max_pooling1d_7 (MaxPooling1 (None, 35, 16)            0         \n",
            "_________________________________________________________________\n",
            "dropout_16 (Dropout)         (None, 35, 16)            0         \n",
            "_________________________________________________________________\n",
            "bidirectional_6 (Bidirection (None, 50)                8400      \n",
            "_________________________________________________________________\n",
            "dropout_17 (Dropout)         (None, 50)                0         \n",
            "=================================================================\n",
            "Total params: 11,688\n",
            "Trainable params: 11,688\n",
            "Non-trainable params: 0\n",
            "_________________________________________________________________\n",
            "WARNING:tensorflow:`implementation=0` has been deprecated, and now defaults to `implementation=1`.Please update your layer call.\n"
          ],
          "name": "stdout"
        },
        {
          "output_type": "stream",
          "text": [
            "WARNING:tensorflow:`implementation=0` has been deprecated, and now defaults to `implementation=1`.Please update your layer call.\n"
          ],
          "name": "stderr"
        },
        {
          "output_type": "stream",
          "text": [
            "Model: \"model_7\"\n",
            "_________________________________________________________________\n",
            "Layer (type)                 Output Shape              Param #   \n",
            "=================================================================\n",
            "input_7 (InputLayer)         [(None, 10, 140)]         0         \n",
            "_________________________________________________________________\n",
            "time_distributed_3 (TimeDist (None, 10, 50)            11688     \n",
            "_________________________________________________________________\n",
            "bidirectional_7 (Bidirection (None, 10)                2240      \n",
            "_________________________________________________________________\n",
            "dropout_18 (Dropout)         (None, 10)                0         \n",
            "_________________________________________________________________\n",
            "dense_6 (Dense)              (None, 5)                 55        \n",
            "_________________________________________________________________\n",
            "dropout_19 (Dropout)         (None, 5)                 0         \n",
            "_________________________________________________________________\n",
            "dense_7 (Dense)              (None, 3)                 18        \n",
            "=================================================================\n",
            "Total params: 14,001\n",
            "Trainable params: 14,001\n",
            "Non-trainable params: 0\n",
            "_________________________________________________________________\n"
          ],
          "name": "stdout"
        }
      ]
    },
    {
      "cell_type": "code",
      "metadata": {
        "id": "FEXc7rqW70uW",
        "colab_type": "code",
        "colab": {
          "base_uri": "https://localhost:8080/",
          "height": 1000
        },
        "outputId": "dab99f9c-0141-4820-d5d8-2e1e4bdf2551"
      },
      "source": [
        "checkpoint = ModelCheckpoint(\"model_semeval_taskA.h5\", monitor='val_loss', verbose=1, save_best_only=True, mode='min')\n",
        "early = EarlyStopping(monitor='val_loss', mode='min', patience=5)\n",
        "callback = [checkpoint,early]\n",
        "X_train, X_test, y_train, y_test = train_test_split(X, y, test_size=0.2, random_state = 42)\n",
        "X_train,X_val,y_train,y_val = train_test_split(X_train , y_train , test_size=0.25, random_state = 42)\n",
        "#model.compile(loss='binary_crossentropy', optimizer='adam', metrics=['accuracy'])\n",
        "\n",
        "history = model.fit(X_train, y_train, epochs = epochs, batch_size=BATCH_SIZE, validation_data=(X_val, y_val),verbose = 1, callbacks = callback)"
      ],
      "execution_count": 57,
      "outputs": [
        {
          "output_type": "stream",
          "text": [
            "Epoch 1/50\n",
            "472/472 [==============================] - ETA: 0s - accuracy: 0.4185 - loss: 1.0769\n",
            "Epoch 00001: val_loss improved from inf to 1.06980, saving model to model_semeval_taskA.h5\n",
            "472/472 [==============================] - 22s 46ms/step - accuracy: 0.4185 - loss: 1.0769 - val_accuracy: 0.4256 - val_loss: 1.0698\n",
            "Epoch 2/50\n",
            "470/472 [============================>.] - ETA: 0s - accuracy: 0.4234 - loss: 1.0725\n",
            "Epoch 00002: val_loss improved from 1.06980 to 1.06979, saving model to model_semeval_taskA.h5\n",
            "472/472 [==============================] - 15s 33ms/step - accuracy: 0.4233 - loss: 1.0725 - val_accuracy: 0.4256 - val_loss: 1.0698\n",
            "Epoch 3/50\n",
            "470/472 [============================>.] - ETA: 0s - accuracy: 0.4234 - loss: 1.0715\n",
            "Epoch 00003: val_loss improved from 1.06979 to 1.06758, saving model to model_semeval_taskA.h5\n",
            "472/472 [==============================] - 16s 33ms/step - accuracy: 0.4233 - loss: 1.0714 - val_accuracy: 0.4256 - val_loss: 1.0676\n",
            "Epoch 4/50\n",
            "471/472 [============================>.] - ETA: 0s - accuracy: 0.4231 - loss: 1.0701\n",
            "Epoch 00004: val_loss improved from 1.06758 to 1.06598, saving model to model_semeval_taskA.h5\n",
            "472/472 [==============================] - 16s 33ms/step - accuracy: 0.4233 - loss: 1.0700 - val_accuracy: 0.4256 - val_loss: 1.0660\n",
            "Epoch 5/50\n",
            "472/472 [==============================] - ETA: 0s - accuracy: 0.4233 - loss: 1.0687\n",
            "Epoch 00005: val_loss improved from 1.06598 to 1.06410, saving model to model_semeval_taskA.h5\n",
            "472/472 [==============================] - 16s 33ms/step - accuracy: 0.4233 - loss: 1.0687 - val_accuracy: 0.4256 - val_loss: 1.0641\n",
            "Epoch 6/50\n",
            "472/472 [==============================] - ETA: 0s - accuracy: 0.4233 - loss: 1.0682\n",
            "Epoch 00006: val_loss did not improve from 1.06410\n",
            "472/472 [==============================] - 16s 34ms/step - accuracy: 0.4233 - loss: 1.0682 - val_accuracy: 0.4256 - val_loss: 1.0646\n",
            "Epoch 7/50\n",
            "472/472 [==============================] - ETA: 0s - accuracy: 0.4232 - loss: 1.0651\n",
            "Epoch 00007: val_loss improved from 1.06410 to 1.06248, saving model to model_semeval_taskA.h5\n",
            "472/472 [==============================] - 17s 35ms/step - accuracy: 0.4232 - loss: 1.0651 - val_accuracy: 0.4256 - val_loss: 1.0625\n",
            "Epoch 8/50\n",
            "471/472 [============================>.] - ETA: 0s - accuracy: 0.4232 - loss: 1.0639\n",
            "Epoch 00008: val_loss improved from 1.06248 to 1.05768, saving model to model_semeval_taskA.h5\n",
            "472/472 [==============================] - 16s 34ms/step - accuracy: 0.4233 - loss: 1.0637 - val_accuracy: 0.4256 - val_loss: 1.0577\n",
            "Epoch 9/50\n",
            "469/472 [============================>.] - ETA: 0s - accuracy: 0.4223 - loss: 1.0597\n",
            "Epoch 00009: val_loss improved from 1.05768 to 1.05490, saving model to model_semeval_taskA.h5\n",
            "472/472 [==============================] - 16s 34ms/step - accuracy: 0.4227 - loss: 1.0598 - val_accuracy: 0.4256 - val_loss: 1.0549\n",
            "Epoch 10/50\n",
            "472/472 [==============================] - ETA: 0s - accuracy: 0.4194 - loss: 1.0568\n",
            "Epoch 00010: val_loss improved from 1.05490 to 1.05352, saving model to model_semeval_taskA.h5\n",
            "472/472 [==============================] - 16s 34ms/step - accuracy: 0.4194 - loss: 1.0568 - val_accuracy: 0.4256 - val_loss: 1.0535\n",
            "Epoch 11/50\n",
            "472/472 [==============================] - ETA: 0s - accuracy: 0.4243 - loss: 1.0544\n",
            "Epoch 00011: val_loss did not improve from 1.05352\n",
            "472/472 [==============================] - 16s 33ms/step - accuracy: 0.4243 - loss: 1.0544 - val_accuracy: 0.4256 - val_loss: 1.0550\n",
            "Epoch 12/50\n",
            "471/472 [============================>.] - ETA: 0s - accuracy: 0.4250 - loss: 1.0521\n",
            "Epoch 00012: val_loss improved from 1.05352 to 1.05173, saving model to model_semeval_taskA.h5\n",
            "472/472 [==============================] - 16s 33ms/step - accuracy: 0.4253 - loss: 1.0519 - val_accuracy: 0.4256 - val_loss: 1.0517\n",
            "Epoch 13/50\n",
            "470/472 [============================>.] - ETA: 0s - accuracy: 0.4262 - loss: 1.0501\n",
            "Epoch 00013: val_loss improved from 1.05173 to 1.04851, saving model to model_semeval_taskA.h5\n",
            "472/472 [==============================] - 16s 34ms/step - accuracy: 0.4258 - loss: 1.0503 - val_accuracy: 0.4351 - val_loss: 1.0485\n",
            "Epoch 14/50\n",
            "472/472 [==============================] - ETA: 0s - accuracy: 0.4282 - loss: 1.0479\n",
            "Epoch 00014: val_loss did not improve from 1.04851\n",
            "472/472 [==============================] - 16s 34ms/step - accuracy: 0.4282 - loss: 1.0479 - val_accuracy: 0.4252 - val_loss: 1.0492\n",
            "Epoch 15/50\n",
            "472/472 [==============================] - ETA: 0s - accuracy: 0.4303 - loss: 1.0473\n",
            "Epoch 00015: val_loss improved from 1.04851 to 1.04766, saving model to model_semeval_taskA.h5\n",
            "472/472 [==============================] - 16s 33ms/step - accuracy: 0.4303 - loss: 1.0473 - val_accuracy: 0.4359 - val_loss: 1.0477\n",
            "Epoch 16/50\n",
            "469/472 [============================>.] - ETA: 0s - accuracy: 0.4266 - loss: 1.0478\n",
            "Epoch 00016: val_loss did not improve from 1.04766\n",
            "472/472 [==============================] - 16s 33ms/step - accuracy: 0.4263 - loss: 1.0479 - val_accuracy: 0.4359 - val_loss: 1.0489\n",
            "Epoch 17/50\n",
            "471/472 [============================>.] - ETA: 0s - accuracy: 0.4294 - loss: 1.0436\n",
            "Epoch 00017: val_loss improved from 1.04766 to 1.04645, saving model to model_semeval_taskA.h5\n",
            "472/472 [==============================] - 16s 33ms/step - accuracy: 0.4293 - loss: 1.0436 - val_accuracy: 0.4361 - val_loss: 1.0465\n",
            "Epoch 18/50\n",
            "470/472 [============================>.] - ETA: 0s - accuracy: 0.4368 - loss: 1.0399\n",
            "Epoch 00018: val_loss did not improve from 1.04645\n",
            "472/472 [==============================] - 17s 36ms/step - accuracy: 0.4371 - loss: 1.0397 - val_accuracy: 0.4351 - val_loss: 1.0501\n",
            "Epoch 19/50\n",
            "472/472 [==============================] - ETA: 0s - accuracy: 0.4337 - loss: 1.0449\n",
            "Epoch 00019: val_loss did not improve from 1.04645\n",
            "472/472 [==============================] - 16s 33ms/step - accuracy: 0.4337 - loss: 1.0449 - val_accuracy: 0.4369 - val_loss: 1.0472\n",
            "Epoch 20/50\n",
            "472/472 [==============================] - ETA: 0s - accuracy: 0.4394 - loss: 1.0411\n",
            "Epoch 00020: val_loss improved from 1.04645 to 1.04599, saving model to model_semeval_taskA.h5\n",
            "472/472 [==============================] - 16s 33ms/step - accuracy: 0.4394 - loss: 1.0411 - val_accuracy: 0.4387 - val_loss: 1.0460\n",
            "Epoch 21/50\n",
            "471/472 [============================>.] - ETA: 0s - accuracy: 0.4375 - loss: 1.0390\n",
            "Epoch 00021: val_loss improved from 1.04599 to 1.04483, saving model to model_semeval_taskA.h5\n",
            "472/472 [==============================] - 16s 34ms/step - accuracy: 0.4373 - loss: 1.0390 - val_accuracy: 0.4399 - val_loss: 1.0448\n",
            "Epoch 22/50\n",
            "471/472 [============================>.] - ETA: 0s - accuracy: 0.4378 - loss: 1.0390\n",
            "Epoch 00022: val_loss improved from 1.04483 to 1.04445, saving model to model_semeval_taskA.h5\n",
            "472/472 [==============================] - 16s 33ms/step - accuracy: 0.4377 - loss: 1.0393 - val_accuracy: 0.4389 - val_loss: 1.0444\n",
            "Epoch 23/50\n",
            "472/472 [==============================] - ETA: 0s - accuracy: 0.4368 - loss: 1.0375\n",
            "Epoch 00023: val_loss did not improve from 1.04445\n",
            "472/472 [==============================] - 16s 33ms/step - accuracy: 0.4368 - loss: 1.0375 - val_accuracy: 0.4427 - val_loss: 1.0471\n",
            "Epoch 24/50\n",
            "470/472 [============================>.] - ETA: 0s - accuracy: 0.4400 - loss: 1.0393\n",
            "Epoch 00024: val_loss did not improve from 1.04445\n",
            "472/472 [==============================] - 16s 33ms/step - accuracy: 0.4396 - loss: 1.0395 - val_accuracy: 0.4379 - val_loss: 1.0468\n",
            "Epoch 25/50\n",
            "471/472 [============================>.] - ETA: 0s - accuracy: 0.4439 - loss: 1.0359\n",
            "Epoch 00025: val_loss did not improve from 1.04445\n",
            "472/472 [==============================] - 16s 34ms/step - accuracy: 0.4440 - loss: 1.0357 - val_accuracy: 0.4345 - val_loss: 1.0503\n",
            "Epoch 26/50\n",
            "471/472 [============================>.] - ETA: 0s - accuracy: 0.4410 - loss: 1.0363\n",
            "Epoch 00026: val_loss did not improve from 1.04445\n",
            "472/472 [==============================] - 16s 33ms/step - accuracy: 0.4405 - loss: 1.0364 - val_accuracy: 0.4401 - val_loss: 1.0457\n",
            "Epoch 27/50\n",
            "472/472 [==============================] - ETA: 0s - accuracy: 0.4403 - loss: 1.0356\n",
            "Epoch 00027: val_loss did not improve from 1.04445\n",
            "472/472 [==============================] - 16s 34ms/step - accuracy: 0.4403 - loss: 1.0356 - val_accuracy: 0.4397 - val_loss: 1.0461\n"
          ],
          "name": "stdout"
        }
      ]
    },
    {
      "cell_type": "code",
      "metadata": {
        "id": "oMHx3HLXMTc0",
        "colab_type": "code",
        "colab": {
          "base_uri": "https://localhost:8080/",
          "height": 295
        },
        "outputId": "029ed064-5748-4ec2-ad56-53a40f6bc4f5"
      },
      "source": [
        "plt.plot(history.history['loss'])\n",
        "plt.plot(history.history['val_loss'])\n",
        "plt.title('model train vs validation loss')\n",
        "plt.ylabel('loss')\n",
        "plt.xlabel('epoch')\n",
        "plt.legend(['train', 'validation'], loc='upper right')\n",
        "plt.show()"
      ],
      "execution_count": 58,
      "outputs": [
        {
          "output_type": "display_data",
          "data": {
            "image/png": "[encoded data removed]",
            "text/plain": [
              "<Figure size 432x288 with 1 Axes>"
            ]
          },
          "metadata": {
            "tags": [],
            "needs_background": "light"
          }
        }
      ]
    },
    {
      "cell_type": "code",
      "metadata": {
        "id": "IRgwpV4QDYSj",
        "colab_type": "code",
        "colab": {
          "base_uri": "https://localhost:8080/",
          "height": 34
        },
        "outputId": "4a0c103b-ebdf-4cdb-c508-182c7d41f11a"
      },
      "source": [
        "predictions = model.predict(X_test, batch_size = BATCH_SIZE, verbose = 1)"
      ],
      "execution_count": 59,
      "outputs": [
        {
          "output_type": "stream",
          "text": [
            "158/158 [==============================] - 2s 15ms/step\n"
          ],
          "name": "stdout"
        }
      ]
    },
    {
      "cell_type": "code",
      "metadata": {
        "id": "LBq43InmraQL",
        "colab_type": "code",
        "colab": {}
      },
      "source": [
        "pred = np.zeros((len(y_test),3))\n",
        "for i in range(len(y_test)):\n",
        "  count = 0\n",
        "  for val in predictions[i]:\n",
        "    if val == max(predictions[i]):\n",
        "      pred[i][count]=1\n",
        "    else:\n",
        "      pred[i][count]=0\n",
        "    count=count+1\n"
      ],
      "execution_count": 0,
      "outputs": []
    },
    {
      "cell_type": "code",
      "metadata": {
        "id": "C6tj78sZD3DB",
        "colab_type": "code",
        "colab": {
          "base_uri": "https://localhost:8080/",
          "height": 34
        },
        "outputId": "a96fc963-3694-4563-84c8-d75e554b1553"
      },
      "source": [
        "accuracy_score(y_test,pred)"
      ],
      "execution_count": 61,
      "outputs": [
        {
          "output_type": "execute_result",
          "data": {
            "text/plain": [
              "0.44387045499701966"
            ]
          },
          "metadata": {
            "tags": []
          },
          "execution_count": 61
        }
      ]
    },
    {
      "cell_type": "code",
      "metadata": {
        "id": "PT2jQqRdE_6E",
        "colab_type": "code",
        "colab": {}
      },
      "source": [
        "test_labels = np.zeros((len(y_test)))\n",
        "for i in range(len(y_test)):\n",
        "  if y_test[i][0] == 1:\n",
        "    test_labels[i]=0\n",
        "  elif y_test[i][1] ==1:\n",
        "    test_labels[i]=1\n",
        "  elif y_test[i][2] ==1:\n",
        "    test_labels[i]=-1\n",
        "\n",
        "pred_labels = np.zeros((len(y_test)))\n",
        "for i in range(len(y_test)):\n",
        "  if pred[i][0] == 1:\n",
        "    pred_labels[i]=0\n",
        "  elif pred[i][1] ==1:\n",
        "    pred_labels[i]=1\n",
        "  elif pred[i][2] ==1:\n",
        "    pred_labels[i]=-1"
      ],
      "execution_count": 0,
      "outputs": []
    },
    {
      "cell_type": "code",
      "metadata": {
        "id": "F9NQiw_ZF8Yl",
        "colab_type": "code",
        "colab": {
          "base_uri": "https://localhost:8080/",
          "height": 34
        },
        "outputId": "7b500ef7-fcd1-488c-daf8-adee357f4878"
      },
      "source": [
        "y_test.shape"
      ],
      "execution_count": 48,
      "outputs": [
        {
          "output_type": "execute_result",
          "data": {
            "text/plain": [
              "(5033, 3)"
            ]
          },
          "metadata": {
            "tags": []
          },
          "execution_count": 48
        }
      ]
    },
    {
      "cell_type": "code",
      "metadata": {
        "id": "b5j40OgmEwcU",
        "colab_type": "code",
        "colab": {
          "base_uri": "https://localhost:8080/",
          "height": 34
        },
        "outputId": "a977bd76-2811-4b74-8f9e-4621d22351a0"
      },
      "source": [
        "df_base = pd.DataFrame(test_labels, columns=['True'])\n",
        "df_base['all positive'] = 1.0\n",
        "df_base['all negative'] = -1.0\n",
        "df_base['all neutral'] = 0.0\n",
        "df_base['predicted']= pred_labels\n",
        "df_base=df_base.reset_index(drop=True)\n",
        "df_base\n",
        "Acc_1=accuracy_score(df_base['True'],df_base['all positive'])\n",
        "Acc_2=accuracy_score(df_base['True'],df_base['all negative'])\n",
        "Acc_3=accuracy_score(df_base['True'],df_base['all neutral'])\n",
        "Acc_4=accuracy_score(df_base['True'],df_base['predicted'])\n",
        "print(\"Accuracies: \", Acc_1, Acc_2 , Acc_3, Acc_4)"
      ],
      "execution_count": 62,
      "outputs": [
        {
          "output_type": "stream",
          "text": [
            "Accuracies:  0.3337969401947149 0.2422014702960461 0.424001589509239 0.44625471885555335\n"
          ],
          "name": "stdout"
        }
      ]
    }
  ]
}